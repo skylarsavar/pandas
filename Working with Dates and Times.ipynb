{
 "cells": [
  {
   "cell_type": "markdown",
   "id": "dca4302d",
   "metadata": {},
   "source": [
    "# Working with Dates and Times"
   ]
  },
  {
   "cell_type": "code",
   "execution_count": 2,
   "id": "94c28bbe",
   "metadata": {},
   "outputs": [],
   "source": [
    "import pandas as pd\n",
    "import datetime as dt"
   ]
  },
  {
   "cell_type": "code",
   "execution_count": 11,
   "id": "d6a59e0e",
   "metadata": {},
   "outputs": [
    {
     "data": {
      "text/plain": [
       "13"
      ]
     },
     "execution_count": 11,
     "metadata": {},
     "output_type": "execute_result"
    }
   ],
   "source": [
    "someday = dt.date(2025, 12, 15)\n",
    "\n",
    "someday.year\n",
    "someday.month\n",
    "someday.day\n",
    "\n",
    "\n",
    "sometime = dt.datetime(2025, 12, 15, 8, 13, 59)\n",
    "sometime.hour\n",
    "sometime.minute"
   ]
  },
  {
   "cell_type": "markdown",
   "id": "e422215e",
   "metadata": {},
   "source": [
    "## The Timestamp and DateTimeIndex Objects"
   ]
  },
  {
   "cell_type": "code",
   "execution_count": 14,
   "id": "1bdc7d41",
   "metadata": {},
   "outputs": [
    {
     "data": {
      "text/plain": [
       "Timestamp('2028-10-23 00:00:00')"
      ]
     },
     "execution_count": 14,
     "metadata": {},
     "output_type": "execute_result"
    }
   ],
   "source": [
    "pd.Timestamp(2027, 3, 12)\n",
    "pd.Timestamp(2027, 3, 12, 18, 23, 49)\n",
    "pd.Timestamp(dt.date(2028, 10, 23))"
   ]
  },
  {
   "cell_type": "code",
   "execution_count": 16,
   "id": "f4024b8a",
   "metadata": {},
   "outputs": [
    {
     "data": {
      "text/plain": [
       "Timestamp('2025-03-08 08:35:15')"
      ]
     },
     "execution_count": 16,
     "metadata": {},
     "output_type": "execute_result"
    }
   ],
   "source": [
    "pd.Timestamp(\"2025-01-01\")\n",
    "pd.Timestamp(\"2025-03-08 08:35:15\")"
   ]
  },
  {
   "cell_type": "code",
   "execution_count": null,
   "id": "c9c9d049",
   "metadata": {},
   "outputs": [],
   "source": []
  }
 ],
 "metadata": {
  "kernelspec": {
   "display_name": "Python 3 (ipykernel)",
   "language": "python",
   "name": "python3"
  },
  "language_info": {
   "codemirror_mode": {
    "name": "ipython",
    "version": 3
   },
   "file_extension": ".py",
   "mimetype": "text/x-python",
   "name": "python",
   "nbconvert_exporter": "python",
   "pygments_lexer": "ipython3",
   "version": "3.11.5"
  }
 },
 "nbformat": 4,
 "nbformat_minor": 5
}
